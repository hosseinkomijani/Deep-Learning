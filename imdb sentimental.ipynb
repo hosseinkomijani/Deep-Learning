{
 "cells": [
  {
   "cell_type": "markdown",
   "id": "722a5c58",
   "metadata": {},
   "source": [
    "# IMDB, Sentiment analysis\n",
    " \n",
    "feature size=10000 \n",
    "2 class: 0 or 1: positive and negative idea"
   ]
  },
  {
   "cell_type": "code",
   "execution_count": 2,
   "id": "37399d70",
   "metadata": {},
   "outputs": [],
   "source": [
    "from keras.datasets import imdb\n",
    "\n",
    "(train_data, train_labels),(test_data, test_labels)=imdb.load_data(num_words=10000) \n"
   ]
  },
  {
   "cell_type": "code",
   "execution_count": 4,
   "id": "7334c074",
   "metadata": {},
   "outputs": [
    {
     "name": "stdout",
     "output_type": "stream",
     "text": [
      "(25000,)\n",
      "(25000,)\n"
     ]
    }
   ],
   "source": [
    "print(train_data.shape) #25000  sample for train \n",
    "print(test_data.shape)  #25000  sample for test"
   ]
  },
  {
   "cell_type": "code",
   "execution_count": 5,
   "id": "14edb278",
   "metadata": {},
   "outputs": [
    {
     "data": {
      "text/plain": [
       "{'fawn': 34701,\n",
       " 'tsukino': 52006,\n",
       " 'nunnery': 52007,\n",
       " 'phillipenes': 52313,\n",
       " 'fakery': 40946,\n",
       " \"grandpa's\": 27658,\n",
       " 'darnell': 27659,\n",
       " 'undergone': 19509,\n",
       " 'handbags': 52315,\n",
       " 'perished': 21926,\n",
       " 'pooped': 37778,\n",

       " ...}"
      ]
     },
     "execution_count": 5,
     "metadata": {},
     "output_type": "execute_result"
    }
   ],
   "source": [
    "word_index=imdb.get_word_index() \n",
    "word_index"
   ]
  },
  {
   "cell_type": "code",
   "execution_count": 6,
   "id": "95c2bbe6",
   "metadata": {
    "scrolled": true
   },
   "outputs": [
    {
     "data": {
      "text/plain": [
       "\"the as you with out themselves powerful lets loves their becomes reaching had journalist of lot from anyone to have after out atmosphere never more room and it so heart shows to years of every never going and help moments or of every chest visual movie except her was several of enough more with is now current film as you of mine potentially unfortunately of you than him that with out themselves her get for was camp of you movie sometimes movie that with scary but and to story wonderful that in seeing in character to of 70s musicians with heart had shadows they of here that with her serious to have does when from why what have critics they is you that isn't one will very to as itself with other and in of seen over landed for anyone of and br show's to whether from than out themselves history he name half some br of and odd was two most of mean for 1 any an boat she he should is thought frog but of script you not while history he heart to real at barrel but when from one bit then have two of script their with her nobody most that with wasn't to with armed acting watch an for with heartfelt film want an\""
      ]
     },
     "execution_count": 6,
     "metadata": {},
     "output_type": "execute_result"
    }
   ],
   "source": [
    "# illustrate sample 0:\n",
    "reverse_word_index=dict([(value, key) for (key,value) in word_index.items()]) \n",
    "decoded_reviw=' '.join([reverse_word_index.get(i,'?') for i in train_data[0]]) \n",
    "decoded_reviw "
   ]
  },
  {
   "cell_type": "code",
   "execution_count": 7,
   "id": "f37aef8e",
   "metadata": {},
   "outputs": [],
   "source": [
    "# preprocessing\n",
    "# 1- padding\n",
    "import numpy as np\n",
    "\n",
    "def vectorize_seq(sequences, dimention=10000):\n",
    "    results=np.zeros([len(sequences) , dimention]) #len(train_data)=25000\n",
    "    for i , sequence in enumerate(sequences): # enumerate index va kalame ra dar list barmigardanad\n",
    "        results[i,sequence]=1\n",
    "    return results\n",
    "    \n",
    "x_train=vectorize_seq(train_data)\n",
    "x_test=vectorize_seq(test_data)\n",
    "\n",
    "\n",
    "\n",
    "#y_train=train_labels\n",
    "#y_test=test_labels\n",
    "y_train=np.asarray(train_labels).astype('float32') # lable ha ro tabdil be float karde\n",
    "y_test=np.asarray(test_labels).astype('float32')"
   ]
  },
  {
   "cell_type": "code",
   "execution_count": 8,
   "id": "84159dbe",
   "metadata": {},
   "outputs": [],
   "source": [
    "# validation data:\n",
    "x_train_partial=x_train[10000:]\n",
    "x_val=x_train[:10000]\n",
    "\n",
    "y_train_partial=y_train[10000:]\n",
    "y_val=y_train[:10000]\n"
   ]
  },
  {
   "cell_type": "markdown",
   "id": "b7d3cec7",
   "metadata": {},
   "source": [
    "# network artichecture: sequential"
   ]
  },
  {
   "cell_type": "code",
   "execution_count": 9,
   "id": "416505df",
   "metadata": {},
   "outputs": [],
   "source": [
    "from keras import models\n",
    "from keras import layers\n",
    "\n",
    "network=models.Sequential() \n",
    "\n",
    "# \n",
    "network.add(layers.Dense(16, activation='relu', input_shape=(10000,))) \n",
    "network.add(layers.Dense(16, activation='relu')) \n",
    "network.add(layers.Dense(16, activation='relu'))  \n",
    "network.add(layers.Dense(1,  activation='sigmoid')) "
   ]
  },
  {
   "cell_type": "markdown",
   "id": "6db25465",
   "metadata": {},
   "source": [
    "# training"
   ]
  },
  {
   "cell_type": "code",
   "execution_count": 14,
   "id": "dcb1383b",
   "metadata": {},
   "outputs": [
    {
     "name": "stdout",
     "output_type": "stream",
     "text": [
      "Epoch 1/5\n",
      "35/35 [==============================] - 6s 100ms/step - loss: 0.0573 - accuracy: 0.9821 - val_loss: 0.0805 - val_accuracy: 0.9687\n",
      "Epoch 2/5\n",
      "35/35 [==============================] - 2s 56ms/step - loss: 0.0345 - accuracy: 0.9906 - val_loss: 0.0698 - val_accuracy: 0.9725\n",
      "Epoch 3/5\n",
      "35/35 [==============================] - 2s 54ms/step - loss: 0.0301 - accuracy: 0.9910 - val_loss: 0.0660 - val_accuracy: 0.9761\n",
      "Epoch 4/5\n",
      "35/35 [==============================] - 2s 62ms/step - loss: 0.0233 - accuracy: 0.9927 - val_loss: 0.0853 - val_accuracy: 0.9684\n",
      "Epoch 5/5\n",
      "35/35 [==============================] - 2s 52ms/step - loss: 0.0094 - accuracy: 0.9984 - val_loss: 0.1714 - val_accuracy: 0.9423\n"
     ]
    }
   ],
   "source": [
    "# training\n",
    "network.compile(optimizer='rmsprop', \n",
    "                loss='binary_crossentropy',\n",
    "                metrics=['accuracy'])\n",
    "\n",
    "network.fit(x_train,y_train,validation_split=0.3,epochs=5,batch_size=512)"
   ]
  },
  {
   "cell_type": "markdown",
   "id": "518c6cbb",
   "metadata": {},
   "source": [
    "# test va predict"
   ]
  },
  {
   "cell_type": "code",
   "execution_count": 16,
   "id": "f93b077b",
   "metadata": {},
   "outputs": [
    {
     "name": "stdout",
     "output_type": "stream",
     "text": [
      "782/782 [==============================] - 8s 8ms/step\n"
     ]
    },
    {
     "data": {
      "text/plain": [
       "array([[0.01638136],\n",
       "       [1.        ],\n",
       "       [0.07841193],\n",
       "       ...,\n",
       "       [0.03235838],\n",
       "       [0.00207273],\n",
       "       [0.3234914 ]], dtype=float32)"
      ]
     },
     "execution_count": 16,
     "metadata": {},
     "output_type": "execute_result"
    }
   ],
   "source": [
    "network.predict(x_test)"
   ]
  },
  {
   "cell_type": "code",
   "execution_count": 17,
   "id": "e96d8613",
   "metadata": {},
   "outputs": [
    {
     "name": "stdout",
     "output_type": "stream",
     "text": [
      "782/782 [==============================] - 6s 8ms/step - loss: 0.8131 - accuracy: 0.8374\n"
     ]
    }
   ],
   "source": [
    "test_loss, test_acc=network.evaluate(x_test,y_test)"
   ]
  },
  {
   "cell_type": "code",
   "execution_count": null,
   "id": "d910d30a",
   "metadata": {},
   "outputs": [],
   "source": []
  }
 ],
 "metadata": {
  "kernelspec": {
   "display_name": "Python 3 (ipykernel)",
   "language": "python",
   "name": "python3"
  },
  "language_info": {
   "codemirror_mode": {
    "name": "ipython",
    "version": 3
   },
   "file_extension": ".py",
   "mimetype": "text/x-python",
   "name": "python",
   "nbconvert_exporter": "python",
   "pygments_lexer": "ipython3",
   "version": "3.8.13"
  },
  "vscode": {
   "interpreter": {
    "hash": "3772d32ab755bbbd514bc84ca727c2c4f9caf015a60ea1fe9de033ff12031159"
   }
  }
 },
 "nbformat": 4,
 "nbformat_minor": 5
}
