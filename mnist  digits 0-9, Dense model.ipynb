{
 "cells": [
  {
   "cell_type": "markdown",
   "id": "ecd1b2b1",
   "metadata": {},
   "source": [
    "\n",
    "# MNIST:\n",
    "https://en.wikipedia.org/wiki/MNIST_database\n",
    "\n",
    "gray scale image of numbers from 0 to 9\n",
    "shape: 28*28,\n",
    "\n",
    "60,000 train (28*28),\n",
    "10,000 test,\n",
    "10 class (numbers 0 ta 9),"
   ]
  },
  {
   "cell_type": "code",
   "execution_count": 1,
   "id": "f667fa5e",
   "metadata": {},
   "outputs": [],
   "source": [
    "from keras.datasets import mnist # dataset mnist\n",
    "import matplotlib.pyplot as plt\n",
    "\n",
    "from keras import models\n",
    "from keras import layers\n",
    "from tensorflow.keras.utils import to_categorical \n",
    "#from keras.utils import to_categorical"
   ]
  },
  {
   "cell_type": "code",
   "execution_count": 2,
   "id": "e3ec4dfe",
   "metadata": {},
   "outputs": [],
   "source": [
    "(train_images, train_labels),(test_images, test_labels)=mnist.load_data() "
   ]
  },
  {
   "cell_type": "code",
   "execution_count": 3,
   "id": "d7569710",
   "metadata": {},
   "outputs": [
    {
     "name": "stdout",
     "output_type": "stream",
     "text": [
      "(60000, 28, 28)\n",
      "(60000,)\n"
     ]
    }
   ],
   "source": [
    "print(train_images.shape)\n",
    "print(train_labels.shape)"
   ]
  },
  {
   "cell_type": "code",
   "execution_count": 4,
   "id": "7da85a29",
   "metadata": {},
   "outputs": [
    {
     "name": "stdout",
     "output_type": "stream",
     "text": [
      "(10000, 28, 28)\n",
      "(10000,)\n"
     ]
    }
   ],
   "source": [
    "print(test_images.shape)\n",
    "print(test_labels.shape)"
   ]
  },
  {
   "cell_type": "code",
   "execution_count": 5,
   "id": "1a28acd2",
   "metadata": {},
   "outputs": [
    {
     "data": {
      "image/png": "[encoded data removed]",
      "text/plain": [
       "<Figure size 640x480 with 1 Axes>"
      ]
     },
     "metadata": {},
     "output_type": "display_data"
    }
   ],
   "source": [
    "# a sample from dataset\n",
    "img4=train_images[4] \n",
    "plt.imshow(img4)\n",
    "plt.show()"
   ]
  },
  {
   "cell_type": "code",
   "execution_count": 6,
   "id": "d86e496e",
   "metadata": {
    "scrolled": true
   },
   "outputs": [
    {
     "data": {
      "image/png": "[encoded data removed]",
      "text/plain": [
       "<Figure size 640x480 with 1 Axes>"
      ]
     },
     "metadata": {},
     "output_type": "display_data"
    }
   ],
   "source": [
    "plt.imshow(img4, cmap=plt.cm.binary) # be sorate binary\n",
    "plt.show()"
   ]
  },
  {
   "cell_type": "markdown",
   "id": "8063f782",
   "metadata": {},
   "source": [
    " # preprossecing"
   ]
  },
  {
   "cell_type": "code",
   "execution_count": 7,
   "id": "d0b22339",
   "metadata": {},
   "outputs": [],
   "source": [
    "# array + normalization\n",
    "train_images=train_images.reshape((60000,28*28)) \n",
    "train_images=train_images.astype('float32')/255 # float & normalizition\n",
    "\n",
    "test_images=test_images.reshape((10000,28*28)) \n",
    "test_images=test_images.astype('float32')/255 "
   ]
  },
  {
   "cell_type": "code",
   "execution_count": 8,
   "id": "c3df61a0",
   "metadata": {},
   "outputs": [],
   "source": [
    "# labels to categorical\n",
    "from tensorflow.keras.utils import to_categorical\n",
    "\n",
    "\n",
    "train_labels=to_categorical(train_labels)\n",
    "test_labels=to_categorical(test_labels)"
   ]
  },
  {
   "cell_type": "markdown",
   "id": "edbbd25a",
   "metadata": {},
   "source": [
    "# network artichecture: sequential"
   ]
  },
  {
   "cell_type": "code",
   "execution_count": 9,
   "id": "387fd222",
   "metadata": {},
   "outputs": [],
   "source": [
    "network=models.Sequential() \n",
    "\n",
    "network.add(layers.Dense(512, activation='relu', input_shape=(28*28,))) \n",
    "network.add(layers.Dense(10, activation='softmax')) "
   ]
  },
  {
   "cell_type": "code",
   "execution_count": 10,
   "id": "65768e9e",
   "metadata": {},
   "outputs": [
    {
     "name": "stdout",
     "output_type": "stream",
     "text": [
      "Model: \"sequential\"\n",
      "_________________________________________________________________\n",
      " Layer (type)                Output Shape              Param #   \n",
      "=================================================================\n",
      " dense (Dense)               (None, 512)               401920    \n",
      "                                                                 \n",
      " dense_1 (Dense)             (None, 10)                5130      \n",
      "                                                                 \n",
      "=================================================================\n",
      "Total params: 407,050\n",
      "Trainable params: 407,050\n",
      "Non-trainable params: 0\n",
      "_________________________________________________________________\n"
     ]
    }
   ],
   "source": [
    "network.summary()"
   ]
  },
  {
   "cell_type": "markdown",
   "id": "bf478d8f",
   "metadata": {},
   "source": [
    "# training"
   ]
  },
  {
   "cell_type": "code",
   "execution_count": 12,
   "id": "82e06dd3",
   "metadata": {},
   "outputs": [
    {
     "name": "stdout",
     "output_type": "stream",
     "text": [
      "Epoch 1/5\n",
      "329/329 [==============================] - 13s 33ms/step - loss: 0.0421 - accuracy: 0.9878 - val_loss: 0.0454 - val_accuracy: 0.9857\n",
      "Epoch 2/5\n",
      "329/329 [==============================] - 10s 32ms/step - loss: 0.0299 - accuracy: 0.9912 - val_loss: 0.0497 - val_accuracy: 0.9852\n",
      "Epoch 3/5\n",
      "329/329 [==============================] - 11s 34ms/step - loss: 0.0224 - accuracy: 0.9933 - val_loss: 0.0491 - val_accuracy: 0.9851\n",
      "Epoch 4/5\n",
      "329/329 [==============================] - 10s 30ms/step - loss: 0.0167 - accuracy: 0.9953 - val_loss: 0.0485 - val_accuracy: 0.9854\n",
      "Epoch 5/5\n",
      "329/329 [==============================] - 11s 32ms/step - loss: 0.0122 - accuracy: 0.9967 - val_loss: 0.0517 - val_accuracy: 0.9854\n"
     ]
    }
   ],
   "source": [
    "network.compile(optimizer='rmsprop',  \n",
    "                loss='categorical_crossentropy',\n",
    "                metrics=['accuracy'])\n",
    "\n",
    "network_history=network.fit(train_images,train_labels,validation_split=0.3, epochs=5,batch_size=128)"
   ]
  },
  {
   "cell_type": "markdown",
   "id": "e49650b2",
   "metadata": {},
   "source": [
    "# validation and loss checking"
   ]
  },
  {
   "cell_type": "code",
   "execution_count": 14,
   "id": "3730f4be",
   "metadata": {},
   "outputs": [
    {
     "data": {
      "text/plain": [
       "<keras.callbacks.History at 0x24d95150610>"
      ]
     },
     "execution_count": 14,
     "metadata": {},
     "output_type": "execute_result"
    }
   ],
   "source": [
    "network_history"
   ]
  },
  {
   "cell_type": "markdown",
   "id": "149017b8",
   "metadata": {},
   "source": [
    "# test va predict"
   ]
  },
  {
   "cell_type": "code",
   "execution_count": 19,
   "id": "fdde1e48",
   "metadata": {},
   "outputs": [
    {
     "name": "stdout",
     "output_type": "stream",
     "text": [
      "313/313 [==============================] - 3s 9ms/step - loss: 0.0722 - accuracy: 0.9798\n",
      "\n",
      "test_loss:  0.07224742323160172 \ttest_acc:  0.9797999858856201\n"
     ]
    }
   ],
   "source": [
    "test_loss, test_acc=network.evaluate(test_images,test_labels)\n",
    "print ('\\ntest_loss: ',test_loss, '\\ttest_acc: ', test_acc)"
   ]
  }
 ],
 "metadata": {
  "kernelspec": {
   "display_name": "Python 3 (ipykernel)",
   "language": "python",
   "name": "python3"
  },
  "language_info": {
   "codemirror_mode": {
    "name": "ipython",
    "version": 3
   },
   "file_extension": ".py",
   "mimetype": "text/x-python",
   "name": "python",
   "nbconvert_exporter": "python",
   "pygments_lexer": "ipython3",
   "version": "3.8.13"
  },
  "vscode": {
   "interpreter": {
    "hash": "3772d32ab755bbbd514bc84ca727c2c4f9caf015a60ea1fe9de033ff12031159"
   }
  }
 },
 "nbformat": 4,
 "nbformat_minor": 5
}
